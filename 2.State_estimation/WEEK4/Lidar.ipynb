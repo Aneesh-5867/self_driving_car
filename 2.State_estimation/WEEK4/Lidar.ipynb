{
  "nbformat": 4,
  "nbformat_minor": 0,
  "metadata": {
    "colab": {
      "name": "Lidar.ipynb",
      "provenance": []
    },
    "kernelspec": {
      "name": "python3",
      "display_name": "Python 3"
    },
    "language_info": {
      "name": "python"
    }
  },
  "cells": [
    {
      "cell_type": "code",
      "metadata": {
        "colab": {
          "base_uri": "https://localhost:8080/"
        },
        "id": "-B4AXIElZBpj",
        "outputId": "fc28dfb6-50e0-4252-d72a-da17538318a6"
      },
      "source": [
        "from numpy import *\n",
        "def sph_to_cart(epsilon, alpha, r):\n",
        "  \"\"\"\n",
        "  Transform sensor readings to Cartesian coordinates in the sensor\n",
        "  frame. The values of epsilon and alpha are given in radians, while \n",
        "  r is in metres. Epsilon is the elevation angle and alpha is the\n",
        "  azimuth angle (i.e., in the x,y plane).\n",
        "  \"\"\"\n",
        "  p = zeros(3)  # Position vector \n",
        "  p[0]= r*cos(alpha)*cos(epsilon)\n",
        "  p[1]= r*sin(alpha)*cos(epsilon)\n",
        "  p[2]= r*sin(epsilon)\n",
        "  # Your code here\n",
        "  return p\n",
        "  \n",
        "def estimate_params(P):\n",
        "  \"\"\"\n",
        "  Estimate parameters from sensor readings in the Cartesian frame.\n",
        "  Each row in the P matrix contains a single 3D point measurement;\n",
        "  the matrix P has size n x 3 (for n points). The format is:\n",
        "  \n",
        "  P = [[x1, y1, z1],\n",
        "       [x2, x2, z2], ...]\n",
        "       \n",
        "  where all coordinate values are in metres. Three parameters are\n",
        "  required to fit the plane, a, b, and c, according to the equation\n",
        "  \n",
        "  z = a + bx + cy\n",
        "  \n",
        "  The function should retrn the parameters as a NumPy array of size\n",
        "  three, in the order [a, b, c].\n",
        "  \"\"\"\n",
        "  A = zeros((P.shape[0],3))\n",
        "  b = zeros((P.shape[0],1))\n",
        "  for i in range(P.shape[0]):\n",
        "    A[i,0] = 1\n",
        "    A[i,1] = P[i,0]\n",
        "    A[i,2] = P[i,1]\n",
        "    b[i] = P[i,2]\n",
        "\n",
        "  param_est = zeros(3)\n",
        "  param_est = linalg.pinv(A.T.dot(A)).dot(A.T).dot(b)\n",
        "  # Your code here\n",
        "  \n",
        "  return param_est\n",
        "print(sph_to_cart(5,10,4))\n",
        "P = random.rand(20,3)\n",
        "q = estimate_params(P)\n",
        "print(q.T[0])"
      ],
      "execution_count": 25,
      "outputs": [
        {
          "output_type": "stream",
          "text": [
            "[-0.95205145 -0.61727287 -3.8356971 ]\n",
            "[ 0.55035652 -0.02811731 -0.04836106]\n"
          ],
          "name": "stdout"
        }
      ]
    },
    {
      "cell_type": "code",
      "metadata": {
        "id": "94oPZCY5fz6b"
      },
      "source": [
        ""
      ],
      "execution_count": 24,
      "outputs": []
    }
  ]
}